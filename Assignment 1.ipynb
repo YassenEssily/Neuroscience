{
 "cells": [
  {
   "cell_type": "code",
   "execution_count": 1,
   "id": "be65fc5f-c5f4-4543-9748-d4f81cd2b4c8",
   "metadata": {},
   "outputs": [],
   "source": [
    "import random\n",
    "\n",
    "def initialize_weight():\n",
    "    return random.uniform(-0.5 , 0.5)"
   ]
  },
  {
   "cell_type": "code",
   "execution_count": 3,
   "id": "741228bc-f885-4472-99fe-cbd645fc6aea",
   "metadata": {},
   "outputs": [],
   "source": [
    "def exp(x, terms=20):\n",
    "    result = 1.0\n",
    "    term = 1.0\n",
    "    for n in range(1, terms):\n",
    "        term *= x / n\n",
    "        result += term\n",
    "    return result"
   ]
  },
  {
   "cell_type": "code",
   "execution_count": 5,
   "id": "5093fb5e-8126-456f-a30c-4f1cb49ed563",
   "metadata": {},
   "outputs": [],
   "source": [
    "def tanh(x):\n",
    "    if x > 100:  \n",
    "        return 1.0\n",
    "    elif x < -100:  \n",
    "        return -1.0\n",
    "    e_2x = exp(2 * x) \n",
    "    return (e_2x - 1) / (e_2x + 1)"
   ]
  },
  {
   "cell_type": "code",
   "execution_count": 7,
   "id": "6f0785be-794f-4167-8550-7228045d1824",
   "metadata": {},
   "outputs": [],
   "source": [
    "def forward_pass(inputs, weights, biases):\n",
    "    h1 = tanh(inputs[0] * weights[0] + inputs[1] * weights[1] + biases[0])\n",
    "    h2 = tanh(inputs[0] * weights[2] + inputs[1] * weights[3] + biases[0])\n",
    "    \n",
    "    o1 = tanh(h1 * weights[4] + h2 * weights[5] + biases[1])\n",
    "    o2 = tanh(h1 * weights[6] + h2 * weights[7] + biases[1])\n",
    "    \n",
    "    return o1, o2"
   ]
  },
  {
   "cell_type": "code",
   "execution_count": 11,
   "id": "9787e3c1-f99f-4e47-b198-74c7c3f4dda5",
   "metadata": {},
   "outputs": [],
   "source": [
    "inputs = [0.8, 0.6]\n",
    "weights = [initialize_weight() for _ in range(8)]\n",
    "biases = [0.5, 0.7]\n",
    "output = forward_pass(inputs, weights, biases)"
   ]
  },
  {
   "cell_type": "code",
   "execution_count": 13,
   "id": "9151c7f7-4d58-4e5f-823f-01b2729ec3e6",
   "metadata": {},
   "outputs": [
    {
     "name": "stdout",
     "output_type": "stream",
     "text": [
      "Output of the network: (0.5060968456388995, 0.6206111163001953)\n"
     ]
    }
   ],
   "source": [
    "print(\"Output of the network:\", output)"
   ]
  },
  {
   "cell_type": "code",
   "execution_count": null,
   "id": "8ff4cb2b-5b39-45ce-8635-da6813114536",
   "metadata": {},
   "outputs": [],
   "source": []
  }
 ],
 "metadata": {
  "kernelspec": {
   "display_name": "Python 3 (ipykernel)",
   "language": "python",
   "name": "python3"
  },
  "language_info": {
   "codemirror_mode": {
    "name": "ipython",
    "version": 3
   },
   "file_extension": ".py",
   "mimetype": "text/x-python",
   "name": "python",
   "nbconvert_exporter": "python",
   "pygments_lexer": "ipython3",
   "version": "3.12.7"
  }
 },
 "nbformat": 4,
 "nbformat_minor": 5
}
